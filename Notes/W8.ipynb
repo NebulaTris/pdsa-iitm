{
  "nbformat": 4,
  "nbformat_minor": 0,
  "metadata": {
    "colab": {
      "name": "Week8.ipynb",
      "provenance": [],
      "collapsed_sections": []
    },
    "kernelspec": {
      "name": "python3",
      "display_name": "Python 3"
    },
    "language_info": {
      "name": "python"
    }
  },
  "cells": [
    {
      "cell_type": "code",
      "metadata": {
        "id": "iQ3Z6nMMLD25"
      },
      "source": [
        "def quickselect(L,l,r,k): # k-th largest in L[l:r]\n",
        "  if (k < 1) or (k > r-l):\n",
        "    return(None)\n",
        "\n",
        "  (pivot,lower,upper) = (L[l],l+1,l+1)\n",
        "  for i in range(l+1,r):\n",
        "    if L[i] > pivot:  # Extend upper segment\n",
        "      upper = upper + 1\n",
        "    else: # Exchange L[i] with start of upper segment\n",
        "      (L[i], L[lower]) = (L[lower], L[i])\n",
        "      (lower,upper) = (lower+1,upper+1)\n",
        "  (L[l],L[lower-1]) = (L[lower-1],L[l]) # Move pivot\n",
        "  lower = lower - 1\n",
        "\n",
        "  # Recursive calls\n",
        "  lowerlen = lower - l\n",
        "  if k <= lowerlen:\n",
        "    return(quickselect(L,l,lower,k))\n",
        "  elif k == (lowerlen + 1):\n",
        "    return(L[lower])\n",
        "  else:\n",
        "    return(quickselect(L,lower+1,r,k-(lowerlen+1)))\n"
      ],
      "execution_count": null,
      "outputs": []
    },
    {
      "cell_type": "code",
      "metadata": {
        "colab": {
          "base_uri": "https://localhost:8080/"
        },
        "id": "stWvlM_b1egl",
        "outputId": "bf3b9736-3a3b-4d56-f110-bd8a672e55be"
      },
      "source": [
        "from random import *\n",
        "A = [ randrange(1000) for i in range(200) ]\n",
        "print(A)"
      ],
      "execution_count": null,
      "outputs": [
        {
          "output_type": "stream",
          "name": "stdout",
          "text": [
            "[185, 791, 479, 898, 102, 424, 191, 736, 104, 20, 582, 783, 367, 300, 239, 840, 866, 401, 853, 640, 875, 897, 213, 136, 207, 244, 365, 677, 771, 371, 400, 184, 804, 429, 647, 637, 67, 172, 638, 32, 288, 951, 804, 466, 327, 208, 735, 163, 647, 217, 976, 880, 356, 510, 88, 311, 917, 958, 787, 127, 861, 379, 120, 885, 679, 454, 336, 262, 772, 327, 606, 957, 438, 364, 382, 288, 739, 757, 843, 889, 235, 737, 998, 364, 416, 338, 627, 783, 245, 878, 777, 820, 685, 381, 157, 74, 946, 284, 621, 636, 132, 863, 700, 587, 738, 346, 43, 395, 973, 991, 602, 350, 13, 708, 214, 959, 396, 666, 774, 144, 780, 790, 786, 5, 356, 72, 972, 956, 725, 9, 390, 298, 162, 945, 641, 419, 251, 995, 251, 510, 210, 1, 562, 892, 579, 806, 268, 344, 290, 667, 776, 216, 976, 525, 551, 104, 91, 384, 638, 203, 521, 672, 937, 162, 630, 103, 328, 764, 866, 406, 981, 243, 612, 741, 562, 858, 229, 307, 717, 787, 861, 569, 859, 960, 790, 949, 496, 318, 532, 135, 57, 177, 100, 422, 446, 609, 401, 602, 457, 571]\n"
          ]
        }
      ]
    },
    {
      "cell_type": "code",
      "metadata": {
        "colab": {
          "base_uri": "https://localhost:8080/"
        },
        "id": "jFsIYmMN1jqy",
        "outputId": "35bc2314-1fb0-4505-a245-88a131c40cd7"
      },
      "source": [
        "for i in range(0,len(A)+2):\n",
        "  print(quickselect(A,0,len(A),i))"
      ],
      "execution_count": null,
      "outputs": [
        {
          "output_type": "stream",
          "name": "stdout",
          "text": [
            "None\n",
            "1\n",
            "5\n",
            "9\n",
            "13\n",
            "20\n",
            "32\n",
            "43\n",
            "57\n",
            "67\n",
            "72\n",
            "74\n",
            "88\n",
            "91\n",
            "100\n",
            "102\n",
            "103\n",
            "104\n",
            "104\n",
            "120\n",
            "127\n",
            "132\n",
            "135\n",
            "136\n",
            "144\n",
            "157\n",
            "162\n",
            "162\n",
            "163\n",
            "172\n",
            "177\n",
            "184\n",
            "185\n",
            "191\n",
            "203\n",
            "207\n",
            "208\n",
            "210\n",
            "213\n",
            "214\n",
            "216\n",
            "217\n",
            "229\n",
            "235\n",
            "239\n",
            "243\n",
            "244\n",
            "245\n",
            "251\n",
            "251\n",
            "262\n",
            "268\n",
            "284\n",
            "288\n",
            "288\n",
            "290\n",
            "298\n",
            "300\n",
            "307\n",
            "311\n",
            "318\n",
            "327\n",
            "327\n",
            "328\n",
            "336\n",
            "338\n",
            "344\n",
            "346\n",
            "350\n",
            "356\n",
            "356\n",
            "364\n",
            "364\n",
            "365\n",
            "367\n",
            "371\n",
            "379\n",
            "381\n",
            "382\n",
            "384\n",
            "390\n",
            "395\n",
            "396\n",
            "400\n",
            "401\n",
            "401\n",
            "406\n",
            "416\n",
            "419\n",
            "422\n",
            "424\n",
            "429\n",
            "438\n",
            "446\n",
            "454\n",
            "457\n",
            "466\n",
            "479\n",
            "496\n",
            "510\n",
            "510\n",
            "521\n",
            "525\n",
            "532\n",
            "551\n",
            "562\n",
            "562\n",
            "569\n",
            "571\n",
            "579\n",
            "582\n",
            "587\n",
            "602\n",
            "602\n",
            "606\n",
            "609\n",
            "612\n",
            "621\n",
            "627\n",
            "630\n",
            "636\n",
            "637\n",
            "638\n",
            "638\n",
            "640\n",
            "641\n",
            "647\n",
            "647\n",
            "666\n",
            "667\n",
            "672\n",
            "677\n",
            "679\n",
            "685\n",
            "700\n",
            "708\n",
            "717\n",
            "725\n",
            "735\n",
            "736\n",
            "737\n",
            "738\n",
            "739\n",
            "741\n",
            "757\n",
            "764\n",
            "771\n",
            "772\n",
            "774\n",
            "776\n",
            "777\n",
            "780\n",
            "783\n",
            "783\n",
            "786\n",
            "787\n",
            "787\n",
            "790\n",
            "790\n",
            "791\n",
            "804\n",
            "804\n",
            "806\n",
            "820\n",
            "840\n",
            "843\n",
            "853\n",
            "858\n",
            "859\n",
            "861\n",
            "861\n",
            "863\n",
            "866\n",
            "866\n",
            "875\n",
            "878\n",
            "880\n",
            "885\n",
            "889\n",
            "892\n",
            "897\n",
            "898\n",
            "917\n",
            "937\n",
            "945\n",
            "946\n",
            "949\n",
            "951\n",
            "956\n",
            "957\n",
            "958\n",
            "959\n",
            "960\n",
            "972\n",
            "973\n",
            "976\n",
            "976\n",
            "981\n",
            "991\n",
            "995\n",
            "998\n",
            "None\n"
          ]
        }
      ]
    },
    {
      "cell_type": "code",
      "metadata": {
        "id": "md2SMMbuDldB"
      },
      "source": [
        "def MoM(L): # Median of medians\n",
        "\n",
        "  if len(L) <= 5:\n",
        "    L.sort()\n",
        "    return(L[len(L)//2])\n",
        "\n",
        "  # Construct list of block medians\n",
        "  M = []\n",
        "\n",
        "  for i in range(0,len(L),5):\n",
        "    X = L[i:i+5]\n",
        "    X.sort()\n",
        "    M.append(X[len(X)//2])\n",
        "\n",
        "  return(MoM(M))"
      ],
      "execution_count": null,
      "outputs": []
    },
    {
      "cell_type": "code",
      "metadata": {
        "colab": {
          "base_uri": "https://localhost:8080/"
        },
        "id": "2HiVILnQcuFu",
        "outputId": "8a91a165-487e-4991-c87c-6056e412ab9e"
      },
      "source": [
        "from random import *\n",
        "A = [ randrange(1000) for i in range(200) ]\n",
        "print(A)"
      ],
      "execution_count": null,
      "outputs": [
        {
          "output_type": "stream",
          "name": "stdout",
          "text": [
            "[136, 516, 789, 782, 851, 956, 462, 802, 226, 279, 506, 227, 507, 752, 633, 244, 356, 880, 835, 376, 524, 811, 163, 597, 333, 289, 891, 77, 807, 348, 303, 465, 108, 48, 736, 748, 454, 278, 854, 192, 581, 384, 96, 641, 821, 149, 908, 410, 192, 892, 303, 664, 144, 878, 147, 699, 908, 633, 485, 601, 73, 820, 723, 516, 941, 175, 785, 309, 67, 30, 341, 322, 252, 792, 698, 888, 780, 926, 559, 983, 650, 905, 20, 382, 440, 227, 306, 673, 987, 130, 47, 396, 511, 850, 940, 48, 785, 757, 965, 997, 227, 701, 297, 700, 532, 664, 832, 32, 146, 330, 900, 149, 409, 205, 371, 123, 554, 989, 654, 286, 44, 993, 134, 182, 471, 479, 149, 952, 270, 292, 950, 87, 614, 160, 459, 762, 848, 277, 547, 798, 778, 516, 932, 268, 433, 892, 146, 470, 266, 115, 856, 27, 462, 841, 535, 702, 874, 783, 816, 948, 134, 837, 520, 497, 444, 792, 252, 131, 814, 579, 244, 51, 801, 169, 825, 510, 19, 602, 407, 917, 737, 333, 918, 758, 190, 573, 844, 816, 986, 880, 990, 672, 218, 752, 227, 262, 941, 946, 678, 93]\n"
          ]
        }
      ]
    },
    {
      "cell_type": "code",
      "metadata": {
        "colab": {
          "base_uri": "https://localhost:8080/"
        },
        "id": "Y1EZusydDnG4",
        "outputId": "59a4d1e0-c3de-491c-97b5-e56fee40edd9"
      },
      "source": [
        "B=sorted(A)\n",
        "(B[(3*len(B))//10], B[len(B)//2], B[(7*len(B))//10], MoM(A))"
      ],
      "execution_count": null,
      "outputs": [
        {
          "output_type": "execute_result",
          "data": {
            "text/plain": [
              "(297, 520, 782, 535)"
            ]
          },
          "metadata": {},
          "execution_count": 23
        }
      ]
    },
    {
      "cell_type": "code",
      "metadata": {
        "id": "MrdsLMPnJPaZ"
      },
      "source": [
        "import sys\n",
        "sys.setrecursionlimit(2**31-1)"
      ],
      "execution_count": null,
      "outputs": []
    },
    {
      "cell_type": "code",
      "metadata": {
        "id": "nCM8LjFoJePe"
      },
      "source": [
        "import time\n",
        "\n",
        "class TimerError(Exception):\n",
        "    \"\"\"A custom exception used to report errors in use of Timer class\"\"\"\n",
        "\n",
        "class Timer:\n",
        "    def __init__(self):\n",
        "        self._start_time = None\n",
        "        self._elapsed_time = None\n",
        "\n",
        "    def start(self):\n",
        "        \"\"\"Start a new timer\"\"\"\n",
        "        if self._start_time is not None:\n",
        "            raise TimerError(\"Timer is running. Use .stop()\")\n",
        "        self._start_time = time.perf_counter()\n",
        "\n",
        "    def stop(self):\n",
        "        \"\"\"Save the elapsed time and re-initialize timer\"\"\"\n",
        "        if self._start_time is None:\n",
        "           raise TimerError(\"Timer is not running. Use .start()\")\n",
        "        self._elapsed_time = time.perf_counter() - self._start_time\n",
        "        self._start_time = None\n",
        "\n",
        "    def elapsed(self):\n",
        "        \"\"\"Report elapsed time\"\"\"\n",
        "        if self._elapsed_time is None:\n",
        "           raise TimerError(\"Timer has not been run yet. Use .start()\")\n",
        "        return(self._elapsed_time)\n",
        "\n",
        "    def __str__(self):\n",
        "        \"\"\"print() prints elapsed time\"\"\"\n",
        "        return(str(self._elapsed_time))"
      ],
      "execution_count": null,
      "outputs": []
    },
    {
      "cell_type": "code",
      "metadata": {
        "colab": {
          "base_uri": "https://localhost:8080/"
        },
        "id": "yjlUIlK6JfuX",
        "outputId": "2587b111-1f5a-4920-bb32-b69d17edc2ef"
      },
      "source": [
        "t = Timer()\n",
        "t.start()\n",
        "A = [i for i in range(10000)]\n",
        "print(quickselect(A,0,len(A),10000))\n",
        "t.stop()\n",
        "print(t)"
      ],
      "execution_count": null,
      "outputs": [
        {
          "output_type": "stream",
          "name": "stdout",
          "text": [
            "9999\n",
            "7.300186226999813\n"
          ]
        }
      ]
    },
    {
      "cell_type": "code",
      "metadata": {
        "id": "D6TWqc96KAwC"
      },
      "source": [
        "def fastselect(L,l,r,k): # k-th largest in L[l:r]\n",
        "  if (k < 1) or (k > r-l):\n",
        "    return(None)\n",
        "\n",
        "  # Find MoM pivot and move to L[l]\n",
        "  pivot = MoM(L[l:r])\n",
        "  pivotpos = min([i for i in range(l,r) if L[i] == pivot])\n",
        "  (L[l],L[pivotpos]) = (L[pivotpos],L[l])\n",
        "\n",
        "  (pivot,lower,upper) = (L[l],l+1,l+1)\n",
        "  for i in range(l+1,r):\n",
        "    if L[i] > pivot:  # Extend upper segment\n",
        "      upper = upper + 1\n",
        "    else: # Exchange L[i] with start of upper segment\n",
        "      (L[i], L[lower]) = (L[lower], L[i])\n",
        "      (lower,upper) = (lower+1,upper+1)\n",
        "  (L[l],L[lower-1]) = (L[lower-1],L[l]) # Move pivot\n",
        "  lower = lower - 1\n",
        "  \n",
        "  # Recursive calls\n",
        "  lowerlen = lower - l\n",
        "  if k <= lowerlen:\n",
        "    return(fastselect(L,l,lower,k))\n",
        "  elif k == (lowerlen + 1):\n",
        "    return(L[lower])\n",
        "  else:\n",
        "    return(fastselect(L,lower+1,r,k-(lowerlen+1)))"
      ],
      "execution_count": null,
      "outputs": []
    },
    {
      "cell_type": "code",
      "metadata": {
        "colab": {
          "base_uri": "https://localhost:8080/"
        },
        "id": "g1nGEUMxKdIN",
        "outputId": "15c35176-f154-4a7b-e1d3-30269131b458"
      },
      "source": [
        "t = Timer()\n",
        "t.start()\n",
        "A = [i for i in range(10000)]\n",
        "print(fastselect(A,0,len(A),10000))\n",
        "t.stop()\n",
        "print(t)"
      ],
      "execution_count": null,
      "outputs": [
        {
          "output_type": "stream",
          "name": "stdout",
          "text": [
            "9999\n",
            "0.012660245999541075\n"
          ]
        }
      ]
    }
  ]
}